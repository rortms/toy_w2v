{
 "cells": [
  {
   "cell_type": "code",
   "execution_count": 6,
   "metadata": {
    "autoscroll": false,
    "collapsed": false,
    "ein.hycell": false,
    "ein.tags": "worksheet-0",
    "slideshow": {
     "slide_type": "-"
    }
   },
   "outputs": [],
   "source": [
    "import numpy as np\n",
    "import pandas as pd"
   ]
  },
  {
   "cell_type": "code",
   "execution_count": 7,
   "metadata": {
    "autoscroll": false,
    "collapsed": false,
    "ein.hycell": false,
    "ein.tags": "worksheet-0",
    "slideshow": {
     "slide_type": "-"
    }
   },
   "outputs": [],
   "source": [
    "# Infinite data iterator\n",
    "def iterData(filename, batch_size):\n",
    "\n",
    "    # Iterator reading file in batches\n",
    "    def get_batch():\n",
    "    \n",
    "        with open(filename, \"r\") as datfile:\n",
    "\n",
    "            position, offset = 0, batch_size\n",
    "\n",
    "            while True:\n",
    "                 yield datfile.read(batch_size)\n",
    "                 position = datfile.seek(position+batch_size)\n",
    "\n",
    "    batch = get_batch()\n",
    "\n",
    "    # When file is exhausted, start over with new get_batch ierator\n",
    "    while True:\n",
    "        b = next(batch)\n",
    "        if b:\n",
    "            yield  b\n",
    "        else:\n",
    "            batch = get_batch()\n",
    "        "
   ]
  },
  {
   "cell_type": "code",
   "execution_count": 8,
   "metadata": {
    "autoscroll": false,
    "collapsed": false,
    "ein.hycell": false,
    "ein.tags": "worksheet-0",
    "slideshow": {
     "slide_type": "-"
    }
   },
   "outputs": [
    {
     "name": "stdout",
     "output_type": "stream",
     "text": [
      "54\n",
      "['Jelly', '\\nWarl', 'd!\\nis', '\\njell', 'y\\nand', '\\nsmel', 'ly\\nan', \"d\\nit'\", 'll\\ndo', 'otool', 'oo!\\n', 'Jelly', '\\nWarl', 'd!\\nis', '\\njell', 'y\\nand', '\\nsmel', 'ly\\nan', \"d\\nit'\", 'll\\ndo', 'otool', 'oo!\\n', 'Jelly', '\\nWarl', 'd!\\nis', '\\njell', 'y\\nand', '\\nsmel', 'ly\\nan', \"d\\nit'\", 'll\\ndo', 'otool', 'oo!\\n', 'Jelly', '\\nWarl', 'd!\\nis', '\\njell', 'y\\nand', '\\nsmel', 'ly\\nan', \"d\\nit'\", 'll\\ndo', 'otool', 'oo!\\n', 'Jelly', '\\nWarl', 'd!\\nis', '\\njell', 'y\\nand', '\\nsmel', 'ly\\nan', \"d\\nit'\", 'll\\ndo', 'otool', 'oo!\\n', 'Jelly', '\\nWarl', 'd!\\nis', '\\njell', 'y\\nand', '\\nsmel', 'ly\\nan', \"d\\nit'\", 'll\\ndo', 'otool', 'oo!\\n', 'Jelly', '\\nWarl', 'd!\\nis', '\\njell', 'y\\nand', '\\nsmel', 'ly\\nan', \"d\\nit'\", 'll\\ndo', 'otool', 'oo!\\n', 'Jelly', '\\nWarl', 'd!\\nis', '\\njell', 'y\\nand', '\\nsmel', 'ly\\nan', \"d\\nit'\", 'll\\ndo', 'otool', 'oo!\\n', 'Jelly', '\\nWarl', 'd!\\nis', '\\njell', 'y\\nand', '\\nsmel', 'ly\\nan', \"d\\nit'\", 'll\\ndo', 'otool', 'oo!\\n', 'Jelly']\n"
     ]
    }
   ],
   "source": [
    "# Test infinite iterator\n",
    "fn = \"./testf\"\n",
    "\n",
    "with open(fn, \"r\") as tf:\n",
    "    lines = tf.read()\n",
    "print(len(lines))\n",
    "\n",
    "# Only 54 charactors reused indefinitely\n",
    "testIter = iterData(fn, 5)\n",
    "print(list( (next(testIter) for k in range(100)) ) )\n"
   ]
  },
  {
   "cell_type": "code",
   "execution_count": null,
   "metadata": {
    "autoscroll": false,
    "collapsed": false,
    "ein.hycell": false,
    "ein.tags": "worksheet-0",
    "slideshow": {
     "slide_type": "-"
    }
   },
   "outputs": [],
   "source": [
    "with open(\"./config\", \"r\") as conf:\n",
    "    data_file = conf.read().split(1)\n",
    "\n",
    "moreData = iterData(data_file, 1000)"
   ]
  }
 ],
 "metadata": {
  "kernelspec": {
   "display_name": "Python 3",
   "name": "python3"
  },
  "name": "toy_w2v.ipynb"
 },
 "nbformat": 4,
 "nbformat_minor": 2
}
