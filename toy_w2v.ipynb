{
 "cells": [
  {
   "cell_type": "code",
   "execution_count": 1,
   "metadata": {
    "autoscroll": false,
    "collapsed": false,
    "ein.hycell": false,
    "ein.tags": "worksheet-0",
    "slideshow": {
     "slide_type": "-"
    }
   },
   "outputs": [],
   "source": [
    "import numpy as np\n",
    "import pandas as pd\n",
    "from collections import Counter\n",
    "import itertools as itt"
   ]
  },
  {
   "cell_type": "code",
   "execution_count": 2,
   "metadata": {
    "autoscroll": false,
    "collapsed": false,
    "ein.hycell": false,
    "ein.tags": "worksheet-0",
    "slideshow": {
     "slide_type": "-"
    }
   },
   "outputs": [],
   "source": [
    "# Infinite data iterator\n",
    "def iterData(filename, batch_size, jump_around=False):\n",
    "\n",
    "    # Iterator reading file in batches\n",
    "    def get_batch():\n",
    "    \n",
    "        with open(filename, \"r\") as datfile:\n",
    "\n",
    "            position, offset = 0, batch_size\n",
    "\n",
    "            while True:\n",
    "                \n",
    "                if jump_around:\n",
    "                    offset = np.random.randint(1,4) * batch_size\n",
    "                    \n",
    "                yield datfile.read(batch_size)\n",
    "                position = datfile.seek(position + offset)\n",
    "\n",
    "    batch = get_batch()\n",
    "\n",
    "    # When file is exhausted, start over with new get_batch iterator\n",
    "    while True:\n",
    "        b = next(batch)\n",
    "        if b:\n",
    "            yield  b.split()\n",
    "        else:\n",
    "            print(\"EOF, starting over\")\n",
    "            batch = get_batch()\n",
    "        "
   ]
  },
  {
   "cell_type": "code",
   "execution_count": 3,
   "metadata": {
    "autoscroll": false,
    "collapsed": false,
    "ein.hycell": false,
    "ein.tags": "worksheet-0",
    "slideshow": {
     "slide_type": "-"
    }
   },
   "outputs": [
    {
     "name": "stdout",
     "output_type": "stream",
     "text": [
      "54\n",
      "EOF, starting over\n",
      "EOF, starting over\n",
      "EOF, starting over\n",
      "EOF, starting over\n",
      "EOF, starting over\n",
      "EOF, starting over\n",
      "EOF, starting over\n",
      "EOF, starting over\n",
      "EOF, starting over\n",
      "['Jelly', 'Warl', 'd! is', 'jell', 'y and', 'smel', 'ly an', \"d it'\", 'll do', 'otool', 'oo!', 'Jelly', 'Warl', 'd! is', 'jell', 'y and', 'smel', 'ly an', \"d it'\", 'll do', 'otool', 'oo!', 'Jelly', 'Warl', 'd! is', 'jell', 'y and', 'smel', 'ly an', \"d it'\", 'll do', 'otool', 'oo!', 'Jelly', 'Warl', 'd! is', 'jell', 'y and', 'smel', 'ly an', \"d it'\", 'll do', 'otool', 'oo!', 'Jelly', 'Warl', 'd! is', 'jell', 'y and', 'smel', 'ly an', \"d it'\", 'll do', 'otool', 'oo!', 'Jelly', 'Warl', 'd! is', 'jell', 'y and', 'smel', 'ly an', \"d it'\", 'll do', 'otool', 'oo!', 'Jelly', 'Warl', 'd! is', 'jell', 'y and', 'smel', 'ly an', \"d it'\", 'll do', 'otool', 'oo!', 'Jelly', 'Warl', 'd! is', 'jell', 'y and', 'smel', 'ly an', \"d it'\", 'll do', 'otool', 'oo!', 'Jelly', 'Warl', 'd! is', 'jell', 'y and', 'smel', 'ly an', \"d it'\", 'll do', 'otool', 'oo!', 'Jelly']\n"
     ]
    }
   ],
   "source": [
    "# Test infinite iterator\n",
    "fn = \"./testf\"\n",
    "\n",
    "with open(fn, \"r\") as tf:\n",
    "    lines = tf.read()\n",
    "print(len(lines))\n",
    "\n",
    "# Only 54 charactors reused indefinitely\n",
    "testIter = iterData(fn, 5)\n",
    "print(list( (\" \".join(next(testIter)) for k in range(100)) ) )\n"
   ]
  },
  {
   "cell_type": "code",
   "execution_count": 4,
   "metadata": {
    "autoscroll": false,
    "collapsed": false,
    "ein.hycell": false,
    "ein.tags": "worksheet-0",
    "slideshow": {
     "slide_type": "-"
    }
   },
   "outputs": [],
   "source": [
    "## Initialize file iterator\n",
    "from config import settings\n",
    "\n",
    "moreData = iterData(settings[\"data_path\"], 1000)"
   ]
  },
  {
   "cell_type": "code",
   "execution_count": 5,
   "metadata": {
    "autoscroll": false,
    "collapsed": false,
    "ein.hycell": false,
    "ein.tags": "worksheet-0",
    "slideshow": {
     "slide_type": "-"
    }
   },
   "outputs": [
    {
     "name": "stdout",
     "output_type": "stream",
     "text": [
      "105\n",
      "188\n",
      "34993\n"
     ]
    },
    {
     "name": "stdout",
     "output_type": "stream",
     "text": [
      "55541\n",
      "69699\n"
     ]
    },
    {
     "name": "stdout",
     "output_type": "stream",
     "text": [
      "83073\n",
      "93842\n"
     ]
    },
    {
     "name": "stdout",
     "output_type": "stream",
     "text": [
      "103080\n",
      "111692\n"
     ]
    },
    {
     "name": "stdout",
     "output_type": "stream",
     "text": [
      "119264\n",
      "127012\n"
     ]
    },
    {
     "name": "stdout",
     "output_type": "stream",
     "text": [
      "135091\n",
      "142802\n"
     ]
    },
    {
     "name": "stdout",
     "output_type": "stream",
     "text": [
      "149803\n",
      "156643\n"
     ]
    },
    {
     "name": "stdout",
     "output_type": "stream",
     "text": [
      "163552\n",
      "169894\n"
     ]
    },
    {
     "name": "stdout",
     "output_type": "stream",
     "text": [
      "177208\n",
      "183983\n"
     ]
    },
    {
     "name": "stdout",
     "output_type": "stream",
     "text": [
      "192246\n",
      "197666\n"
     ]
    },
    {
     "name": "stdout",
     "output_type": "stream",
     "text": [
      "203599\n"
     ]
    },
    {
     "name": "stdout",
     "output_type": "stream",
     "text": [
      "209022\n",
      "214015\n"
     ]
    },
    {
     "name": "stdout",
     "output_type": "stream",
     "text": [
      "219110\n"
     ]
    }
   ],
   "source": [
    "# Construct vocabulary set\n",
    "words = Counter(next(moreData))\n",
    "print(len(words))\n",
    "for k in range(70000):\n",
    "    words.update(next(moreData))\n",
    "    if k % 3000 == 0:\n",
    "        print(len(words))\n",
    "        "
   ]
  },
  {
   "cell_type": "code",
   "execution_count": 6,
   "metadata": {
    "autoscroll": false,
    "collapsed": false,
    "ein.hycell": false,
    "ein.tags": "worksheet-0",
    "slideshow": {
     "slide_type": "-"
    }
   },
   "outputs": [
    {
     "name": "stdout",
     "output_type": "stream",
     "text": [
      "220824\n"
     ]
    },
    {
     "name": "stdout",
     "output_type": "stream",
     "text": [
      "39084\n"
     ]
    }
   ],
   "source": [
    "# Subsampling with word2vec's subsampling function\n",
    "# following: http://mccormickml.com/2017/01/11/word2vec-tutorial-part-2-negative-sampling/\n",
    "\n",
    "# Increase the chance of a less common word being kept, and reduce that of very common words\n",
    "def P(word_fraction):\n",
    "\n",
    "    return np.sqrt(1e-7/word_fraction) + 1e-7/word_fraction\n",
    "\n",
    "print(len(words))\n",
    "\n",
    "m = min(words.values())\n",
    "\n",
    "total_words = sum(words.values())\n",
    "\n",
    "words = Counter({ w : int( (count/m)**0.75 )  for w, count in words.most_common() if np.random.uniform() >= P(count/total_words)})\n",
    "\n",
    "\n",
    "# Word to id mappings\n",
    "word2int = { tup[0] : i for i, tup in enumerate(words.most_common()) }\n",
    "int2word = { i : word for word, i in word2int.items() }\n",
    "\n",
    "print(len(words))\n"
   ]
  },
  {
   "cell_type": "code",
   "execution_count": 8,
   "metadata": {
    "autoscroll": false,
    "collapsed": false,
    "ein.hycell": false,
    "ein.tags": "worksheet-0",
    "slideshow": {
     "slide_type": "-"
    }
   },
   "outputs": [],
   "source": [
    "# Skip-gram model: for each word, sample a surrounding word within a fixed window (excluding itself),\n",
    "# (Forgot actual terminology) each word is processed in this way k times generating k training targets for it.\n",
    "#\n",
    "\n",
    "def inputsTargets(word_sequence, radius = 4, repeat_num = 2):\n",
    "\n",
    "    words, targets = [None]*len(word_sequence)*repeat_num, [None]*(len)(word_sequence)*repeat_num\n",
    "    batch_size = len(words) # or targets\n",
    "    \n",
    "    for i in range(0,batch_size, repeat_num):\n",
    "        \n",
    "        # Index in word_sequence array ( len(word_sequence) < batch_size )\n",
    "        index = i // repeat_num\n",
    "        word = word_sequence[index]\n",
    "        \n",
    "        lower = 0 if index < radius else index - radius\n",
    "        upper = index + radius\n",
    "        words_in_window = word_sequence[lower:index] + word_sequence[index+1:upper]\n",
    "        \n",
    "        for k in range(repeat_num):\n",
    "            words[i+k] = word\n",
    "            targets[i+k] = words_in_window[np.random.randint(0,len(words_in_window))]\n",
    "\n",
    "    return words, targets\n"
   ]
  },
  {
   "cell_type": "code",
   "execution_count": 17,
   "metadata": {
    "autoscroll": false,
    "collapsed": false,
    "ein.hycell": false,
    "ein.tags": "worksheet-0",
    "slideshow": {
     "slide_type": "-"
    }
   },
   "outputs": [],
   "source": [
    "class littleNN(object):\n",
    "\n",
    "    def __init__(self, word_id_counts, embedding_dim, neg_sample_size, learning_rate = 0.05):\n",
    "\n",
    "        ## Vocabulary\n",
    "        self.vocab_size = len(word_id_counts)\n",
    "        self.unigram_table = list(word_id_counts.elements()) # immitating original w2v\n",
    "        \n",
    "        ## Network parameters\n",
    "        self.embedding_dim = embedding_dim\n",
    "        self.neg_sample_size = neg_sample_size        \n",
    "        \n",
    "        # layers\n",
    "        self.w0 = np.random.uniform( size=(self.vocab_size, embedding_dim ) )\n",
    "        self.w1 = np.random.uniform( size=(embedding_dim, self.vocab_size) )\n",
    "        \n",
    "        # sigmoid activation\n",
    "        self.sgmd = lambda x: 1 / ( 1 + np.exp(-x))\n",
    "        self.lr = learning_rate\n",
    "        \n",
    "    # Softmax\n",
    "    def Softmax(self, v):\n",
    "\n",
    "        # Numerical stability, (avoiding large number overflow)\n",
    "        C = max(v)\n",
    "\n",
    "        expV = np.exp(v-C)\n",
    "        return expV / sum(expV)\n",
    "    \n",
    "    # Negative sampling\n",
    "    def negSample(self):\n",
    "\n",
    "        neg_samples = {}\n",
    "        for k in range(self.neg_sample_size):\n",
    "\n",
    "            # Imitating unigram table idea from original w2v, see;\n",
    "            # http://mccormickml.com/2017/01/11/word2vec-tutorial-part-2-negative-sampling/\n",
    "            neg_word_id = self.unigram_table[np.random.randint(len(self.unigram_table))]\n",
    "            \n",
    "            neg_samples[neg_word_id] = 0 # one-hot encoding to 0 \n",
    "\n",
    "        return neg_samples\n",
    "\n",
    "    # Forward pass\n",
    "    def forwardPass(self, inword_id):\n",
    "\n",
    "        # Input to hidden is just a lookup (b/c of one hot word encoding)\n",
    "        z0 = self.w0[inword_id]\n",
    "        a0 = self.sgmd(z0)\n",
    "\n",
    "        # Hidden to output\n",
    "        z1 = np.dot(a0, self.w1)\n",
    "        softmax_ps = self.Softmax(z1)\n",
    "\n",
    "        return a0, softmax_ps\n",
    "\n",
    "    # Sampled back-prop\n",
    "    def sampledBackProp(self, inword_id, a0, softmax_out, target_id):\n",
    "\n",
    "        sampled_targets = self.negSample()\n",
    "        sampled_targets[target_id] = 1 # one-hot for target is 1\n",
    "\n",
    "\n",
    "        ## Sampled backprop ##\n",
    "\n",
    "        # Hidden to output calculations\n",
    "        w0_error = np.zeros(self.embedding_dim)\n",
    "        delta_weights1= {} # dictionary lookup to update only affected terms\n",
    "        \n",
    "        for kth, row in enumerate(self.w1):\n",
    "\n",
    "            sm = 0\n",
    "            for idx in sampled_targets:\n",
    "                \n",
    "                out_err_at_idx = softmax_out[idx] - sampled_targets[idx]\n",
    "                \n",
    "                ###############################################\n",
    "                # 'Local' gradient for softmax node\n",
    "                if kth == idx:\n",
    "                    softmax_derivative = softmax_out[idx] * (1 - softmax_out[idx] )\n",
    "                else:\n",
    "                    softmax_derivative = - softmax_out[idx] * softmax_out[kth]\n",
    "                ###############################################\n",
    "                \n",
    "                delta_weights1[ (kth,idx) ] = a0[kth] * softmax_derivative * out_err_at_idx\n",
    "\n",
    "                # Dot transpose of w1\n",
    "                sm += row[idx] * softmax_derivative * out_err_at_idx\n",
    "\n",
    "            w0_error[kth] = sm\n",
    "\n",
    "        ## Input to hidden calculations\n",
    "        # Note:\n",
    "        # one-hot encoded input means only kth row of w0\n",
    "        # will be updated with non-zero deltas, since input xk is coeficient.\n",
    "\n",
    "        # b/c of one-hot input this happens to be a row vector\n",
    "        delta_weights0 = a0 * (1 - a0) *  w0_error * 1\n",
    "\n",
    "        return (inword_id, delta_weights0), delta_weights1\n",
    "    ##\n",
    "    def updateWeights(self, deltas0, deltas1):\n",
    "        '''\n",
    "        Inputs\n",
    "        ------\n",
    "        deltas0: \n",
    "        A tuple, (index, delta_vector) index of w0 row to be updated and deltas\n",
    "        \n",
    "        deltas1:\n",
    "        Dictionary, keys are tuples corresponding to entry i,j of w1 to be updated.\n",
    "        Values are the deltas at index i,j\n",
    "        \n",
    "        '''\n",
    "        # Update w0 \n",
    "        row_index, deltas0 = deltas0\n",
    "        self.w0[row_index] -= self.lr * deltas0\n",
    "\n",
    "        # Update w1\n",
    "        for key in deltas1:\n",
    "            i,j = key\n",
    "\n",
    "            self.w1[i][j] -= self.lr * deltas1[key]\n",
    "\n",
    "    ##\n",
    "    def word2vec(self, in_word_id):\n",
    "\n",
    "        return self.w0[in_word_id]\n",
    "        "
   ]
  },
  {
   "cell_type": "code",
   "execution_count": null,
   "metadata": {
    "autoscroll": false,
    "collapsed": false,
    "ein.hycell": false,
    "ein.tags": "worksheet-0",
    "slideshow": {
     "slide_type": "-"
    }
   },
   "outputs": [],
   "source": [
    "def trainNN(word_id_counts, epochs, batch_size):\n",
    "\n",
    "    # Hyperparams\n",
    "    embedding_dim = 400\n",
    "    neg_sample_size = 15\n",
    "    learning_rate = 0.5\n",
    "    moreData = iterData(settings[\"data_path\"], batch_size)\n",
    "    # word2vec specific\n",
    "    radius = 4      # sample window radius\n",
    "    repeat_num = 3  # number of times to sample each word\n",
    "    \n",
    "    #\n",
    "    net = littleNN(word_id_counts, embedding_dim, neg_sample_size, learning_rate)\n",
    "    \n",
    "    #\n",
    "    for e in range(epochs):\n",
    "        \n",
    "        batch = next(moreData)\n",
    "        words, targets = inputsTargets(batch)\n",
    "\n",
    "        for nth, word in enumerate(words):\n",
    "            \n",
    "            word_id, target_id  = word2int.get(word,None), word2int.get(targets[nth], None)\n",
    "\n",
    "            if not word_id or not target_id:\n",
    "                continue\n",
    "            \n",
    "            a0, softmax_probs = net.forwardPass(word_id)\n",
    "            d0, d1 = net.sampledBackProp(word_id, a0, softmax_probs, target_id)\n",
    "            net.updateWeights(d0,d1)\n",
    "\n",
    "\n",
    "## Run training             \n",
    "word_id_counts = Counter( { word2int[w] : words[w] for w in words } )\n",
    "\n",
    "trainNN(word_id_counts, 5, 10000)"
   ]
  },
  {
   "cell_type": "code",
   "execution_count": 18,
   "metadata": {
    "autoscroll": false,
    "collapsed": false,
    "ein.hycell": false,
    "ein.tags": "worksheet-0",
    "slideshow": {
     "slide_type": "-"
    }
   },
   "outputs": [],
   "source": [
    "\n",
    "\n",
    "testN = littleNN(word_id_counts, 300, 5, )\n",
    "\n",
    "word_id = word2int['weather']\n",
    "targ_id = word2int['wind']\n",
    "\n",
    "a0, sfm = testN.forwardPass(word_id)\n",
    "d0,d1 = testN.sampledBackProp(word_id, a0, sfm, targ_id)\n",
    "testN.updateWeights(d0,d1)"
   ]
  },
  {
   "cell_type": "code",
   "execution_count": 5,
   "metadata": {
    "autoscroll": false,
    "collapsed": false,
    "ein.hycell": false,
    "ein.tags": "worksheet-0",
    "slideshow": {
     "slide_type": "-"
    }
   },
   "outputs": [
    {
     "data": {
      "text/plain": [
       "array([    0,    -2,    -6,   -12,   -20, -5402,   -42, -6006])"
      ]
     },
     "execution_count": 5,
     "metadata": {},
     "output_type": "execute_result"
    }
   ],
   "source": [
    "t = np.array([1,2,3,4,5,74,7,78])\n",
    "t * (1 - t)"
   ]
  }
 ],
 "metadata": {
  "kernelspec": {
   "display_name": "Python 3",
   "name": "python3"
  },
  "name": "toy_w2v.ipynb"
 },
 "nbformat": 4,
 "nbformat_minor": 2
}
