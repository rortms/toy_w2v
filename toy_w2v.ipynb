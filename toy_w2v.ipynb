{
 "cells": [
  {
   "cell_type": "code",
   "execution_count": 14,
   "metadata": {
    "autoscroll": false,
    "collapsed": false,
    "ein.hycell": false,
    "ein.tags": "worksheet-0",
    "slideshow": {
     "slide_type": "-"
    }
   },
   "outputs": [],
   "source": [
    "import random\n",
    "import time\n",
    "\n",
    "import numpy as np\n",
    "from scipy.sparse import csr_matrix\n",
    "import pandas as pd\n",
    "\n",
    "from collections import Counter\n",
    "import itertools as itt"
   ]
  },
  {
   "cell_type": "code",
   "execution_count": 15,
   "metadata": {
    "autoscroll": false,
    "collapsed": false,
    "ein.hycell": false,
    "ein.tags": "worksheet-0",
    "slideshow": {
     "slide_type": "-"
    }
   },
   "outputs": [],
   "source": [
    "# Infinite data iterator\n",
    "def iterData(filename, batch_size, jump_around=False):\n",
    "\n",
    "    # Iterator reading file in batches\n",
    "    def get_batch():\n",
    "    \n",
    "        with open(filename, \"r\") as datfile:\n",
    "\n",
    "            position, offset = 0, batch_size\n",
    "\n",
    "            while True:\n",
    "                \n",
    "                if jump_around:\n",
    "                    offset = np.random.randint(1,4) * batch_size\n",
    "                    \n",
    "                yield datfile.read(batch_size)\n",
    "                position = datfile.seek(position + offset)\n",
    "\n",
    "    batch = get_batch()\n",
    "\n",
    "    # When file is exhausted, start over with new get_batch iterator\n",
    "    while True:\n",
    "        b = next(batch)\n",
    "        if b:\n",
    "            yield  b.split()\n",
    "        else:\n",
    "            print(\"EOF, starting over\")\n",
    "            batch = get_batch()\n",
    "        "
   ]
  },
  {
   "cell_type": "code",
   "execution_count": 16,
   "metadata": {
    "autoscroll": false,
    "collapsed": false,
    "ein.hycell": false,
    "ein.tags": "worksheet-0",
    "slideshow": {
     "slide_type": "-"
    }
   },
   "outputs": [
    {
     "name": "stdout",
     "output_type": "stream",
     "text": [
      "54\n",
      "EOF, starting over\n",
      "EOF, starting over\n",
      "EOF, starting over\n",
      "EOF, starting over\n",
      "EOF, starting over\n",
      "EOF, starting over\n",
      "EOF, starting over\n",
      "EOF, starting over\n",
      "EOF, starting over\n",
      "['Jelly', 'Warl', 'd! is', 'jell', 'y and', 'smel', 'ly an', \"d it'\", 'll do', 'otool', 'oo!', 'Jelly', 'Warl', 'd! is', 'jell', 'y and', 'smel', 'ly an', \"d it'\", 'll do', 'otool', 'oo!', 'Jelly', 'Warl', 'd! is', 'jell', 'y and', 'smel', 'ly an', \"d it'\", 'll do', 'otool', 'oo!', 'Jelly', 'Warl', 'd! is', 'jell', 'y and', 'smel', 'ly an', \"d it'\", 'll do', 'otool', 'oo!', 'Jelly', 'Warl', 'd! is', 'jell', 'y and', 'smel', 'ly an', \"d it'\", 'll do', 'otool', 'oo!', 'Jelly', 'Warl', 'd! is', 'jell', 'y and', 'smel', 'ly an', \"d it'\", 'll do', 'otool', 'oo!', 'Jelly', 'Warl', 'd! is', 'jell', 'y and', 'smel', 'ly an', \"d it'\", 'll do', 'otool', 'oo!', 'Jelly', 'Warl', 'd! is', 'jell', 'y and', 'smel', 'ly an', \"d it'\", 'll do', 'otool', 'oo!', 'Jelly', 'Warl', 'd! is', 'jell', 'y and', 'smel', 'ly an', \"d it'\", 'll do', 'otool', 'oo!', 'Jelly']\n"
     ]
    }
   ],
   "source": [
    "# Test infinite iterator\n",
    "fn = \"./testf\"\n",
    "\n",
    "with open(fn, \"r\") as tf:\n",
    "    lines = tf.read()\n",
    "print(len(lines))\n",
    "\n",
    "# Only 54 charactors reused indefinitely\n",
    "testIter = iterData(fn, 5)\n",
    "print(list( (\" \".join(next(testIter)) for k in range(100)) ) )\n"
   ]
  },
  {
   "cell_type": "code",
   "execution_count": 17,
   "metadata": {
    "autoscroll": false,
    "collapsed": false,
    "ein.hycell": false,
    "ein.tags": "worksheet-0",
    "slideshow": {
     "slide_type": "-"
    }
   },
   "outputs": [],
   "source": [
    "## Initialize file iterator\n",
    "from config import settings\n",
    "\n",
    "moreData = iterData(settings[\"data_path\"], 1000)"
   ]
  },
  {
   "cell_type": "code",
   "execution_count": 18,
   "metadata": {
    "autoscroll": false,
    "collapsed": false,
    "ein.hycell": false,
    "ein.tags": "worksheet-0",
    "slideshow": {
     "slide_type": "-"
    }
   },
   "outputs": [
    {
     "name": "stdout",
     "output_type": "stream",
     "text": [
      "105\n"
     ]
    },
    {
     "name": "stdout",
     "output_type": "stream",
     "text": [
      "220824\n"
     ]
    }
   ],
   "source": [
    "# Construct vocabulary set\n",
    "words = Counter(next(moreData))\n",
    "print(len(words))\n",
    "for k in range(70000):\n",
    "    words.update(next(moreData))\n",
    "print(len(words))\n",
    "        "
   ]
  },
  {
   "cell_type": "code",
   "execution_count": 19,
   "metadata": {
    "autoscroll": false,
    "collapsed": false,
    "ein.hycell": false,
    "ein.tags": "worksheet-0",
    "slideshow": {
     "slide_type": "-"
    }
   },
   "outputs": [
    {
     "name": "stdout",
     "output_type": "stream",
     "text": [
      "220824\n"
     ]
    },
    {
     "name": "stdout",
     "output_type": "stream",
     "text": [
      "38979\n"
     ]
    }
   ],
   "source": [
    "# Subsampling with word2vec's subsampling function\n",
    "# following: http://mccormickml.com/2017/01/11/word2vec-tutorial-part-2-negative-sampling/\n",
    "\n",
    "# Increase the chance of a less common word being kept, and reduce that of very common words\n",
    "def P(word_fraction):\n",
    "\n",
    "    return np.sqrt(1e-7/word_fraction) + 1e-7/word_fraction\n",
    "\n",
    "print(len(words))\n",
    "\n",
    "m = min(words.values())\n",
    "\n",
    "total_words = sum(words.values())\n",
    "\n",
    "## 0.75 power of fraction taken from word 2 vec\n",
    "words = Counter({ w : int( (count)**0.75 )  for w, count in words.most_common() if np.random.uniform() >= P(count/total_words)})\n",
    "\n",
    "\n",
    "# Word to id mappings\n",
    "word2int = { tup[0] : i for i, tup in enumerate(words.most_common()) }\n",
    "int2word = { i : word for word, i in word2int.items() }\n",
    "\n",
    "print(len(words))\n"
   ]
  },
  {
   "cell_type": "code",
   "execution_count": 20,
   "metadata": {
    "autoscroll": false,
    "collapsed": false,
    "ein.hycell": false,
    "ein.tags": "worksheet-0",
    "slideshow": {
     "slide_type": "-"
    }
   },
   "outputs": [],
   "source": [
    "###################\n",
    "# Skip-gram model: for each word, sample a surrounding word within a fixed window (skip-window) excluding itself,\n",
    "# each word is processed in this way k times (skip number) generating k training targets for it. \n",
    "#\n",
    "\n",
    "def makeInputsTargets(word_sequence, radius = 4, repeat_num = 2):\n",
    "\n",
    "    words = np.zeros(len(word_sequence)*repeat_num, dtype=np.int32)\n",
    "    targets =  np.zeros((len)(word_sequence)*repeat_num, dtype=np.int32 )\n",
    "    batch_size = len(words) # or targets\n",
    "    \n",
    "    for i in range(0, batch_size, repeat_num):\n",
    "        \n",
    "        # Index in word_sequence array ( len(word_sequence) < batch_size )\n",
    "        index = i // repeat_num\n",
    "        word = word_sequence[index]\n",
    "        \n",
    "        lower = 0 if index < radius else index - radius\n",
    "        upper = index + radius\n",
    "        words_in_window = word_sequence[lower:index] + word_sequence[index+1:upper]\n",
    "        \n",
    "        for k in range(repeat_num):\n",
    "            words[i+k] = word\n",
    "            targets[i+k] = words_in_window[np.random.randint(0,len(words_in_window))]\n",
    "\n",
    "    return words, targets"
   ]
  },
  {
   "cell_type": "code",
   "execution_count": 21,
   "metadata": {
    "autoscroll": false,
    "collapsed": false,
    "ein.hycell": false,
    "ein.tags": "worksheet-0",
    "slideshow": {
     "slide_type": "subslide"
    }
   },
   "outputs": [],
   "source": [
    "class littleNN(object):\n",
    "\n",
    "    def __init__(self, word_id_counts, embedding_dim, neg_sample_size, learning_rate = 0.5):\n",
    "\n",
    "        ## Vocabulary\n",
    "        self.vocab_size = len(word_id_counts)\n",
    "        self.unigram_table = list(word_id_counts.elements()) # immitating original w2v\n",
    "        \n",
    "        ## Network parameters\n",
    "        self.embedding_dim = embedding_dim\n",
    "        self.neg_sample_size = neg_sample_size\n",
    "        \n",
    "        # layers\n",
    "        self.w0 = np.random.normal(0, self.vocab_size**-0.5, (self.vocab_size, embedding_dim ) )\n",
    "        self.b0 = np.zeros(embedding_dim)\n",
    "        \n",
    "        self.w1 = np.random.normal(0, self.vocab_size**-0.5, (embedding_dim, self.vocab_size) )\n",
    "        self.b1 = np.zeros(self.vocab_size)\n",
    "        \n",
    "        # Hyperparams\n",
    "        self.lr = learning_rate\n",
    "        self.reg = 1e-3\n",
    "\n",
    "        # Sigmoid\n",
    "        self.sgmd = lambda x: 1 / (1 + np.exp(-x))\n",
    "    \n",
    "    # Negative sampling\n",
    "    def negSample(self, target_id):\n",
    "\n",
    "        target_id = target_id[0]\n",
    "        neg_samples = np.zeros(self.neg_sample_size+1, dtype=np.int32)\n",
    "        for k in range(self.neg_sample_size):\n",
    "\n",
    "            # Imitating unigram table idea from original w2v, see;\n",
    "            # http://mccormickml.com/2017/01/11/word2vec-tutorial-part-2-negative-sampling/\n",
    "            \n",
    "            # neg_word_id = self.unigram_table[np.random.randint(len(self.unigram_table))]\n",
    "            # neg_samples[neg_word_id] = 0 # one-hot encoding to 0\n",
    "            samp = self.unigram_table[np.random.randint(len(self.unigram_table))]\n",
    "            if samp != target_id:\n",
    "                neg_samples[k] = samp\n",
    "            else:\n",
    "                neg_samples[k] = self.unigram_table[np.random.randint(len(self.unigram_table))]\n",
    "\n",
    "        neg_samples[-1] = target_id\n",
    "        return neg_samples\n",
    "\n",
    "\n",
    "    # Softmax\n",
    "    def Softmax(self, v):\n",
    "\n",
    "        # Numerical stability, (avoiding large number overflow)\n",
    "        C = 0 # np.max(v) / 4\n",
    "\n",
    "        expV = np.exp(v-C)\n",
    "        return expV / np.sum(expV, axis=1, keepdims=True)\n",
    "    \n",
    "    #\n",
    "    def forwardPass(self, Xbatch):\n",
    "\n",
    "        # Input to hidden is just a lookup (b/c of one hot word encoding)\n",
    "        # z0 = np.array( [self.w0[word_id] + self.b0 for word_id in inBatch] )\n",
    "        z0 = self.w0[Xbatch] + self.b0\n",
    "        a0 = np.maximum(0, z0) # ReLu activation\n",
    "\n",
    "        # Hidden to output\n",
    "        z1 = np.dot(a0, self.w1) + self.b1\n",
    "\n",
    "        return a0, z1 #self.Softmax(z1)\n",
    "\n",
    "\n",
    "    #\n",
    "    def sampledBackProp(self, a0, z1, Xbatch, target_batch):\n",
    "\n",
    "        live_indices = np.apply_along_axis(self.negSample, 1, target_batch[:,None]) # See explanatory ex1 below\n",
    "        \n",
    "        # softmax_p = self.Softmax(z1)\n",
    "        # softmax_p = softmax_p[np.arange(len(z1))[:,None], live_indices] # See explanatory ex2 below\n",
    "        z1 = z1[np.arange(len(z1))[:,None], live_indices] # See explanatory ex2 below\n",
    "        out = self.sgmd(z1)\n",
    "        \n",
    "        N = out.shape[0]\n",
    "        out_d = out * (1-out)\n",
    "        out_d /= N # weight updates will be averaged over batch size\n",
    "        \n",
    "        # softmax_p_d[range(N), -1] -= 1 # Last index stores target, see getNegSample\n",
    "\n",
    "        # Create sparse csr matrix\n",
    "        rows = np.array([ [ k for _ in range(len(live_indices[k])) ] for k in range(N)]).flatten()\n",
    "        columns = live_indices.flatten()\n",
    "        data = out_d.flatten()\n",
    "        sparse_out_d = csr_matrix( (data, (rows, columns)), shape=(N, self.vocab_size))\n",
    "                \n",
    "        ## w1 ##\n",
    "        \n",
    "        w1_D = a0.T @ sparse_out_d\n",
    "        b1_d = np.sum(out_d, axis=0)\n",
    "        \n",
    "        w1_D += self.reg * self.w1 # regularization gradient\n",
    "        \n",
    "        # update\n",
    "        self.w1 += -self.lr * w1_D\n",
    "        self.b1[live_indices] += -self.lr * b1_d\n",
    "\n",
    "        \n",
    "        ## w0 ##\n",
    "\n",
    "        # Local gradient of ReLu a0 is 1 if z0>0 else 0\n",
    "        a0_d = sparse_out_d @ self.w1.T\n",
    "        a0_d[a0 <= 0] = 0\n",
    "        \n",
    "        b0_d = np.sum(a0_d, axis=0)\n",
    "\n",
    "        # Xbatch as sparse matrix\n",
    "        rows = range(N)\n",
    "        columns = Xbatch\n",
    "        data = np.ones(N)\n",
    "        \n",
    "        sparse_Xbatch = csr_matrix( (data, (rows, columns)), shape=(N, self.vocab_size))\n",
    "        w0_D = sparse_Xbatch.T @ a0_d\n",
    "        \n",
    "        w0_D += self.reg * self.w0 # regularization gradient\n",
    "        \n",
    "        # update\n",
    "        self.w0 += -self.lr * w0_D\n",
    "        self.b0 += -self.lr * b0_d\n",
    "    \n",
    "    #\n",
    "    def backpropUpdate(self, a0, z1, Xbatch, target_batch):\n",
    "        \n",
    "        softmax_p = self.Softmax(z1)\n",
    "        N = softmax_p.shape[0]\n",
    "        softmax_p_d = softmax_p\n",
    "        softmax_p_d[range(N), target_batch] -= 1\n",
    "        softmax_p_d /= N # weight updates will be averaged over batch size\n",
    "\n",
    "        ## w1\n",
    "        w1_D = np.dot(a0.T, softmax_p_d)\n",
    "        b1_d = np.sum(softmax_p_d, axis=0)\n",
    "\n",
    "        w1_D += self.reg * self.w1 # regularization gradient\n",
    "        \n",
    "        # update\n",
    "        self.w1 += -self.lr * w1_D\n",
    "        self.b1 += -self.lr * b1_d\n",
    "\n",
    "        ## w0\n",
    "\n",
    "        # Local gradient of ReLu a0 is 1 if z0>0 else 0\n",
    "        a0_d = np.dot(softmax_p_d, self.w1.T)\n",
    "        a0_d[ a0_d <= 0 ] = 0 \n",
    "        b0_d = np.sum(a0_d, axis=0)\n",
    "        \n",
    "        # Treating Xbatch as one-hot implies w1_D consists of copies of\n",
    "        # a0_d as rows, for every xi = 1, and a row of zero otherwise\n",
    "        \n",
    "        # one-hot equivalent of np.dot(Xbatch.T, a0_d) combined with\n",
    "        # update step.\n",
    "\n",
    "        for k, index in enumerate(Xbatch):\n",
    "            self.w0[index] += -self.lr * a0_d[k]\n",
    "            \n",
    "        self.b0 += -self.lr * b0_d\n",
    "    \n",
    "\n",
    "    #\n",
    "    def crossEntropy(self, softmax_p, target_ids):\n",
    "\n",
    "        N = softmax_p.shape[0]\n",
    "        return -np.log(softmax_p[range(N), target_ids]).sum() / N\n",
    "    \n",
    "    #\n",
    "    def word2vec(self, in_word_id):\n",
    "        return self.w0[in_word_id]\n",
    "\n",
    "    # #\n",
    "    # def getNegSample(self, target):\n",
    "\n",
    "    #     target = target[0]\n",
    "    #     result = np.zeros(self.neg_sample_size+1, dtype=np.int32)\n",
    "\n",
    "    #     # Target splits vocab range in two, pick sample from larger\n",
    "    #     # excluding the target\n",
    "    #     if target < (self.vocab_size-1) / 2:\n",
    "\n",
    "    #         samp = random.sample(range(target+1, self.vocab_size), self.neg_sample_size)\n",
    "    #     else:\n",
    "    #         samp = random.sample(range(0, target-1), self.neg_sample_size)\n",
    "\n",
    "    #     result[:len(samp)] += samp # fill result array\n",
    "    #     result[-1] = target # add target (assures target exists exactly once)\n",
    "\n",
    "    #     return result    \n"
   ]
  },
  {
   "cell_type": "code",
   "execution_count": 22,
   "metadata": {
    "autoscroll": false,
    "collapsed": false,
    "ein.hycell": false,
    "ein.tags": "worksheet-0",
    "slideshow": {
     "slide_type": "-"
    }
   },
   "outputs": [
    {
     "data": {
      "text/plain": [
       "array([[1, 0, 4],\n       [0, 0, 2]])"
      ]
     },
     "execution_count": 22,
     "metadata": {},
     "output_type": "execute_result"
    }
   ],
   "source": [
    "np.array([[1,2,4],[1,1,1]]) *  np.array([[1,0,1],[0,0,2]])"
   ]
  },
  {
   "cell_type": "code",
   "execution_count": 23,
   "metadata": {
    "autoscroll": false,
    "collapsed": false,
    "ein.hycell": false,
    "ein.tags": "worksheet-0",
    "slideshow": {
     "slide_type": "-"
    }
   },
   "outputs": [
    {
     "data": {
      "text/plain": [
       "array([[0., 0., 8., 0., 0., 0.],\n       [0., 8., 8., 8., 0., 8.],\n       [0., 8., 0., 0., 8., 0.],\n       [0., 8., 0., 8., 0., 0.]])"
      ]
     },
     "execution_count": 23,
     "metadata": {},
     "output_type": "execute_result"
    }
   ],
   "source": [
    "csr_matrix(2*np.random.randint(0,2, (6,4)).T) @ (4*np.eye(6))"
   ]
  },
  {
   "cell_type": "code",
   "execution_count": 24,
   "metadata": {
    "autoscroll": false,
    "collapsed": false,
    "ein.hycell": false,
    "ein.tags": "worksheet-0",
    "slideshow": {
     "slide_type": "-"
    }
   },
   "outputs": [
    {
     "name": "stdout",
     "output_type": "stream",
     "text": [
      "targets [ 9 10  2  8 19 14  6  7  5 13]\n"
     ]
    },
    {
     "data": {
      "text/plain": [
       "array([[10, 11, 15, 14],\n       [ 7,  1,  0,  4],\n       [ 8,  6,  7, 18],\n       [14, 17, 16, 10],\n       [ 7,  1,  6,  0],\n       [ 7,  4,  2,  6],\n       [19,  9, 18, 14],\n       [15, 19, 12, 16],\n       [11, 10, 17,  9],\n       [10,  9,  3,  5]])"
      ]
     },
     "execution_count": 24,
     "metadata": {},
     "output_type": "execute_result"
    }
   ],
   "source": [
    "##################\n",
    "# Explanatory Ex 1\n",
    "tars = np.random.randint(0,20, 10)\n",
    "                \n",
    "print(\"targets\", tars)\n",
    "                \n",
    "def getNegSample(target, N=20):\n",
    "\n",
    "    target = target[0]\n",
    "    \n",
    "    if target < (N-1) / 2:\n",
    "\n",
    "        return random.sample(range(target+1, N), 4)\n",
    "\n",
    "    return random.sample(range(0, target-1), 4)\n",
    "\n",
    "# for each target apply getNegSample function\n",
    "np.apply_along_axis(getNegSample, 1, tars[:,None])               "
   ]
  },
  {
   "cell_type": "code",
   "execution_count": 25,
   "metadata": {
    "autoscroll": false,
    "collapsed": false,
    "ein.hycell": false,
    "ein.tags": "worksheet-0",
    "slideshow": {
     "slide_type": "-"
    }
   },
   "outputs": [
    {
     "name": "stdout",
     "output_type": "stream",
     "text": [
      "[[11 10  9  8  7  6  5  4]\n",
      " [11 10  9  8  7  6  5  4]\n",
      " [11 10  9  8  7  6  5  4]\n",
      " [11 10  9  8  7  6  5  4]\n",
      " [11 10  9  8  7  6  5  4]\n",
      " [11 10  9  8  7  6  5  4]\n",
      " [11 10  9  8  7  6  5  4]]\n",
      "[[5 0]\n",
      " [5 0]\n",
      " [5 0]\n",
      " [5 0]\n",
      " [5 0]\n",
      " [5 0]\n",
      " [5 0]]\n",
      "[[ 6 11]\n",
      " [ 6 11]\n",
      " [ 6 11]\n",
      " [ 6 11]\n",
      " [ 6 11]\n",
      " [ 6 11]\n",
      " [ 6 11]]\n"
     ]
    }
   ],
   "source": [
    "######################\n",
    "# Explanatory Ex 2\n",
    "\n",
    "l = 7\n",
    "ints = np.array([range(11, 3, -1) for k in range(l)])\n",
    "indices = np.array([[5,0] for k in range(l)])\n",
    "print(ints)\n",
    "print(indices)\n",
    "select_ints = ints[np.arange(l)[:,None],indices]\n",
    "print(select_ints)"
   ]
  },
  {
   "cell_type": "code",
   "execution_count": 26,
   "metadata": {
    "autoscroll": false,
    "collapsed": false,
    "ein.hycell": false,
    "ein.tags": "worksheet-0",
    "slideshow": {
     "slide_type": "-"
    }
   },
   "outputs": [
    {
     "name": "stdout",
     "output_type": "stream",
     "text": [
      "rows [0 0 1 1 2 2 3 3 4 4 5 5 6 6]\n",
      "columns [5 0 5 0 5 0 5 0 5 0 5 0 5 0]\n",
      "data [ 6 11  6 11  6 11  6 11  6 11  6 11  6 11]\n",
      "[[11  0  0  0  0  6  0  0]\n",
      " [11  0  0  0  0  6  0  0]\n",
      " [11  0  0  0  0  6  0  0]\n",
      " [11  0  0  0  0  6  0  0]\n",
      " [11  0  0  0  0  6  0  0]\n",
      " [11  0  0  0  0  6  0  0]\n",
      " [11  0  0  0  0  6  0  0]]\n"
     ]
    }
   ],
   "source": [
    "###################\n",
    "# Explanatory Ex 3\n",
    "\n",
    "rows = np.array([ [k for l in range(len(indices[k]))] for k in range(l) ]).flatten()\n",
    "print(\"rows\", rows)\n",
    "columns = indices.flatten()\n",
    "print(\"columns\", columns)\n",
    "data = select_ints.flatten()\n",
    "print(\"data\", data)\n",
    "\n",
    "csr = csr_matrix( (data, (rows, columns)), shape=(7,8))\n",
    "print(csr.toarray())"
   ]
  },
  {
   "cell_type": "code",
   "execution_count": 27,
   "metadata": {
    "autoscroll": false,
    "collapsed": false,
    "ein.hycell": false,
    "ein.tags": "worksheet-0",
    "slideshow": {
     "slide_type": "-"
    }
   },
   "outputs": [
    {
     "name": "stdout",
     "output_type": "stream",
     "text": [
      "Help on function dot in module scipy.sparse.base:\n",
      "\n",
      "dot(self, other)\n",
      "    Ordinary dot product\n",
      "    \n",
      "    Examples\n",
      "    --------\n",
      "    >>> import numpy as np\n",
      "    >>> from scipy.sparse import csr_matrix\n",
      "    >>> A = csr_matrix([[1, 2, 0], [0, 0, 3], [4, 0, 5]])\n",
      "    >>> v = np.array([1, 0, -1])\n",
      "    >>> A.dot(v)\n",
      "    array([ 1, -3, -1], dtype=int64)\n",
      "\n"
     ]
    }
   ],
   "source": [
    "help(csr_matrix.dot)"
   ]
  },
  {
   "cell_type": "code",
   "execution_count": 28,
   "metadata": {
    "autoscroll": false,
    "collapsed": false,
    "ein.hycell": false,
    "ein.tags": "worksheet-0",
    "slideshow": {
     "slide_type": "-"
    }
   },
   "outputs": [],
   "source": [
    "def cosineDistance(v,w):\n",
    "\n",
    "    unit = lambda x: x / np.sqrt(np.dot(x,x))\n",
    "    if (v**2).sum() < 1e-7:\n",
    "        raise Exception('First argument to cosineDistance is close to zero vector')\n",
    "    if (w**2).sum() < 1e-7:\n",
    "        raise Exception('Second argument to cosineDistance is close to zero vector')    \n",
    "    return np.dot( unit(v), unit(w) )\n"
   ]
  },
  {
   "cell_type": "code",
   "execution_count": 29,
   "metadata": {
    "autoscroll": false,
    "collapsed": false,
    "ein.hycell": false,
    "ein.tags": "worksheet-0",
    "slideshow": {
     "slide_type": "-"
    }
   },
   "outputs": [
    {
     "name": "stdout",
     "output_type": "stream",
     "text": [
      "Loss:  10.57073880471033\n"
     ]
    },
    {
     "name": "stdout",
     "output_type": "stream",
     "text": [
      "Loss:  10.566617399950776\n"
     ]
    },
    {
     "name": "stdout",
     "output_type": "stream",
     "text": [
      "Loss:  10.559060548637\n"
     ]
    },
    {
     "name": "stdout",
     "output_type": "stream",
     "text": [
      "Loss:  10.553556075781543\n"
     ]
    },
    {
     "name": "stdout",
     "output_type": "stream",
     "text": [
      "Loss:  10.554940710800345\n"
     ]
    },
    {
     "name": "stdout",
     "output_type": "stream",
     "text": [
      "Loss:  10.543652471850965\n"
     ]
    },
    {
     "name": "stdout",
     "output_type": "stream",
     "text": [
      "Loss:  10.542255949570471\n"
     ]
    },
    {
     "name": "stdout",
     "output_type": "stream",
     "text": [
      "Loss:  10.536518728206975\n"
     ]
    },
    {
     "name": "stdout",
     "output_type": "stream",
     "text": [
      "Loss:  10.529396135269907\n"
     ]
    },
    {
     "name": "stdout",
     "output_type": "stream",
     "text": [
      "Loss:  10.525066803603556\n"
     ]
    },
    {
     "name": "stdout",
     "output_type": "stream",
     "text": [
      "Loss:  10.524758787466121\n"
     ]
    },
    {
     "name": "stdout",
     "output_type": "stream",
     "text": [
      "Loss:  10.519943132932424\n"
     ]
    },
    {
     "name": "stdout",
     "output_type": "stream",
     "text": [
      "Loss:  10.499241625306919\n"
     ]
    },
    {
     "name": "stdout",
     "output_type": "stream",
     "text": [
      "Loss:  10.497844642299189\n"
     ]
    },
    {
     "name": "stdout",
     "output_type": "stream",
     "text": [
      "Loss:  10.491709616161904\n"
     ]
    },
    {
     "name": "stdout",
     "output_type": "stream",
     "text": [
      "Loss:  10.46803124091219\n"
     ]
    },
    {
     "ename": "KeyboardInterrupt",
     "evalue": "",
     "output_type": "error",
     "traceback": [
      "\u001b[0;31m---------------------------------------------------------------------------\u001b[0m",
      "\u001b[0;31mKeyboardInterrupt\u001b[0m                         Traceback (most recent call last)",
      "\u001b[0;32m<ipython-input-29-c1f51b3c7d2b>\u001b[0m in \u001b[0;36m<module>\u001b[0;34m\u001b[0m\n\u001b[1;32m     65\u001b[0m \u001b[0mword_id_counts\u001b[0m \u001b[0;34m=\u001b[0m \u001b[0mCounter\u001b[0m\u001b[0;34m(\u001b[0m \u001b[0;34m{\u001b[0m \u001b[0mword2int\u001b[0m\u001b[0;34m[\u001b[0m\u001b[0mw\u001b[0m\u001b[0;34m]\u001b[0m \u001b[0;34m:\u001b[0m \u001b[0mwords\u001b[0m\u001b[0;34m[\u001b[0m\u001b[0mw\u001b[0m\u001b[0;34m]\u001b[0m \u001b[0;32mfor\u001b[0m \u001b[0mw\u001b[0m \u001b[0;32min\u001b[0m \u001b[0mwords\u001b[0m \u001b[0;34m}\u001b[0m \u001b[0;34m)\u001b[0m\u001b[0;34m\u001b[0m\u001b[0;34m\u001b[0m\u001b[0m\n\u001b[1;32m     66\u001b[0m \u001b[0;34m\u001b[0m\u001b[0m\n\u001b[0;32m---> 67\u001b[0;31m \u001b[0mtrainNN\u001b[0m\u001b[0;34m(\u001b[0m\u001b[0mword_id_counts\u001b[0m\u001b[0;34m)\u001b[0m\u001b[0;34m\u001b[0m\u001b[0;34m\u001b[0m\u001b[0m\n\u001b[0m",
      "\u001b[0;32m<ipython-input-29-c1f51b3c7d2b>\u001b[0m in \u001b[0;36mtrainNN\u001b[0;34m(word_id_counts)\u001b[0m\n\u001b[1;32m     56\u001b[0m         \u001b[0ma0\u001b[0m\u001b[0;34m,\u001b[0m \u001b[0mz1\u001b[0m \u001b[0;34m=\u001b[0m \u001b[0mnet\u001b[0m\u001b[0;34m.\u001b[0m\u001b[0mforwardPass\u001b[0m\u001b[0;34m(\u001b[0m\u001b[0mword_id_batch\u001b[0m\u001b[0;34m)\u001b[0m\u001b[0;34m\u001b[0m\u001b[0;34m\u001b[0m\u001b[0m\n\u001b[1;32m     57\u001b[0m         \u001b[0;31m# print(\"sum w0\", net.w0.sum(axis=1))\u001b[0m\u001b[0;34m\u001b[0m\u001b[0;34m\u001b[0m\u001b[0;34m\u001b[0m\u001b[0m\n\u001b[0;32m---> 58\u001b[0;31m         \u001b[0mprint\u001b[0m\u001b[0;34m(\u001b[0m\u001b[0;34m\"Loss: \"\u001b[0m\u001b[0;34m,\u001b[0m \u001b[0mnet\u001b[0m\u001b[0;34m.\u001b[0m\u001b[0mcrossEntropy\u001b[0m\u001b[0;34m(\u001b[0m\u001b[0mnet\u001b[0m\u001b[0;34m.\u001b[0m\u001b[0mSoftmax\u001b[0m\u001b[0;34m(\u001b[0m\u001b[0mz1\u001b[0m\u001b[0;34m)\u001b[0m\u001b[0;34m,\u001b[0m \u001b[0mtarget_batch\u001b[0m\u001b[0;34m)\u001b[0m\u001b[0;34m)\u001b[0m\u001b[0;34m\u001b[0m\u001b[0;34m\u001b[0m\u001b[0m\n\u001b[0m\u001b[1;32m     59\u001b[0m \u001b[0;34m\u001b[0m\u001b[0m\n\u001b[1;32m     60\u001b[0m         \u001b[0;31m# net.sampledBackProp(a0, z1, word_id_batch, target_batch)\u001b[0m\u001b[0;34m\u001b[0m\u001b[0;34m\u001b[0m\u001b[0;34m\u001b[0m\u001b[0m\n",
      "\u001b[0;32m<ipython-input-21-a871864a5a69>\u001b[0m in \u001b[0;36mSoftmax\u001b[0;34m(self, v)\u001b[0m\n\u001b[1;32m     54\u001b[0m \u001b[0;34m\u001b[0m\u001b[0m\n\u001b[1;32m     55\u001b[0m         \u001b[0mexpV\u001b[0m \u001b[0;34m=\u001b[0m \u001b[0mnp\u001b[0m\u001b[0;34m.\u001b[0m\u001b[0mexp\u001b[0m\u001b[0;34m(\u001b[0m\u001b[0mv\u001b[0m\u001b[0;34m-\u001b[0m\u001b[0mC\u001b[0m\u001b[0;34m)\u001b[0m\u001b[0;34m\u001b[0m\u001b[0;34m\u001b[0m\u001b[0m\n\u001b[0;32m---> 56\u001b[0;31m         \u001b[0;32mreturn\u001b[0m \u001b[0mexpV\u001b[0m \u001b[0;34m/\u001b[0m \u001b[0mnp\u001b[0m\u001b[0;34m.\u001b[0m\u001b[0msum\u001b[0m\u001b[0;34m(\u001b[0m\u001b[0mexpV\u001b[0m\u001b[0;34m,\u001b[0m \u001b[0maxis\u001b[0m\u001b[0;34m=\u001b[0m\u001b[0;36m1\u001b[0m\u001b[0;34m,\u001b[0m \u001b[0mkeepdims\u001b[0m\u001b[0;34m=\u001b[0m\u001b[0;32mTrue\u001b[0m\u001b[0;34m)\u001b[0m\u001b[0;34m\u001b[0m\u001b[0;34m\u001b[0m\u001b[0m\n\u001b[0m\u001b[1;32m     57\u001b[0m \u001b[0;34m\u001b[0m\u001b[0m\n\u001b[1;32m     58\u001b[0m     \u001b[0;31m#\u001b[0m\u001b[0;34m\u001b[0m\u001b[0;34m\u001b[0m\u001b[0;34m\u001b[0m\u001b[0m\n",
      "\u001b[0;31mKeyboardInterrupt\u001b[0m: "
     ]
    }
   ],
   "source": [
    "def trainNN(word_id_counts):\n",
    "\n",
    "    # Training Params\n",
    "    epochs = 100\n",
    "    batch_size = 1000\n",
    "    \n",
    "    # Hyperparams\n",
    "    embedding_dim = 128\n",
    "    neg_sample_size = 64 #300\n",
    "    learning_rate = 0.51\n",
    "    # momentum = 0.5\n",
    "\n",
    "    # word2vec and validation\n",
    "    radius = 7#2      # sample window radius\n",
    "    repeat_num = 5#2  # number of times to sample each word\n",
    "    head_subset_size = 100 # sample only from head of distribution for monitoring progress\n",
    "    validation_sample_size = 6\n",
    "    \n",
    "    # Data iterator\n",
    "    moreData = iterData(settings[\"data_path\"], batch_size) # data iterator\n",
    "    \n",
    "    # Init NN\n",
    "    net = littleNN(word_id_counts, embedding_dim, neg_sample_size, learning_rate)\n",
    "\n",
    "    ###############\n",
    "    # Random sample from dictionary to observe closest cosine distances\n",
    "    head_of_distribution = [ id_count[0] for id_count in word_id_counts.most_common( head_subset_size )]\n",
    "    samp_ids = random.sample(head_of_distribution, validation_sample_size)\n",
    "    pS = pd.Series([w_id for w_id in word_id_counts.keys() if w_id not in samp_ids])\n",
    "        \n",
    "    ##############\n",
    "    #\n",
    "\n",
    "    for e in range(epochs):\n",
    "        \n",
    "        # for v in [net.word2vec(i) for i in samp_ids]:\n",
    "        #     print(v)\n",
    "        # print(\"-------------------\\n\")\n",
    "        \n",
    "        \n",
    "        ## View sampled words' neighbors every epoch\n",
    "        if False:\n",
    "            for samp_id in samp_ids:\n",
    "                neighbor_ids = pS.apply( lambda w_id: cosineDistance(net.word2vec(samp_id), net.word2vec(w_id)) ).nlargest(6).index.values\n",
    "                print(\"Words close to {}: {}\".format(int2word[samp_id], [int2word[i] for i in neighbor_ids] ) )\n",
    "            print(\"------------\\n\")\n",
    "        \n",
    "\n",
    "        ## Train ##\n",
    "        \n",
    "        batch = next(moreData)\n",
    "        batch = [ word2int[word] for word in batch if word2int.get(word,None) is not None ]\n",
    "        \n",
    "        word_id_batch, target_batch = makeInputsTargets(batch, radius=radius, repeat_num=repeat_num )\n",
    "\n",
    "        a0, z1 = net.forwardPass(word_id_batch)\n",
    "        # print(\"sum w0\", net.w0.sum(axis=1))\n",
    "        print(\"Loss: \", net.crossEntropy(net.Softmax(z1), target_batch))\n",
    "        \n",
    "        # net.sampledBackProp(a0, z1, word_id_batch, target_batch)\n",
    "        net.backpropUpdate(a0, z1, word_id_batch, target_batch)\n",
    "        # print(\"sum w0, after bp\", net.w0.sum(axis=1))\n",
    "            \n",
    "## Run training\n",
    "word_id_counts = Counter( { word2int[w] : words[w] for w in words } )\n",
    "\n",
    "trainNN(word_id_counts)"
   ]
  },
  {
   "cell_type": "code",
   "execution_count": null,
   "metadata": {
    "autoscroll": false,
    "collapsed": false,
    "ein.hycell": false,
    "ein.tags": "worksheet-0",
    "slideshow": {
     "slide_type": "-"
    }
   },
   "outputs": [],
   "source": [
    "a = np.random.randint(0,10, (1,10))"
   ]
  },
  {
   "cell_type": "code",
   "execution_count": null,
   "metadata": {
    "autoscroll": false,
    "collapsed": false,
    "ein.hycell": false,
    "ein.tags": "worksheet-0",
    "slideshow": {
     "slide_type": "-"
    }
   },
   "outputs": [],
   "source": [
    "pS = pd.Series(np.array([1,2,3,4,5,74,7,78]))\n",
    "pS.apply(lambda x: 1/x).nsmallest(3).index.values"
   ]
  }
 ],
 "metadata": {
  "kernelspec": {
   "display_name": "Python 3",
   "name": "python3"
  },
  "name": "toy_w2v.ipynb"
 },
 "nbformat": 4,
 "nbformat_minor": 2
}
